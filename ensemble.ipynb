{
 "metadata": {
  "language_info": {
   "codemirror_mode": {
    "name": "ipython",
    "version": 3
   },
   "file_extension": ".py",
   "mimetype": "text/x-python",
   "name": "python",
   "nbconvert_exporter": "python",
   "pygments_lexer": "ipython3",
   "version": "3.7.7"
  },
  "orig_nbformat": 2,
  "kernelspec": {
   "name": "python377jvsc74a57bd098b0a9b7b4eaaa670588a142fd0a9b87eaafe866f1db4228be72b4211d12040f",
   "display_name": "Python 3.7.7 64-bit ('conda': virtualenv)"
  }
 },
 "nbformat": 4,
 "nbformat_minor": 2,
 "cells": [
  {
   "cell_type": "code",
   "execution_count": 1,
   "metadata": {},
   "outputs": [],
   "source": [
    "import pandas as pd\n",
    "import numpy as np"
   ]
  },
  {
   "cell_type": "code",
   "execution_count": 2,
   "metadata": {},
   "outputs": [],
   "source": [
    "robert_1 = pd.read_csv('./prediction/robert.csv')\n",
    "robert_2 = pd.read_csv('./prediction/robert_2.csv')"
   ]
  },
  {
   "cell_type": "code",
   "execution_count": 3,
   "metadata": {},
   "outputs": [
    {
     "output_type": "execute_result",
     "data": {
      "text/plain": [
       "pred    821\n",
       "dtype: int64"
      ]
     },
     "metadata": {},
     "execution_count": 3
    }
   ],
   "source": [
    "(robert_1 == robert_2).sum()"
   ]
  },
  {
   "cell_type": "code",
   "execution_count": 4,
   "metadata": {},
   "outputs": [],
   "source": [
    "npy1 = np.load('./npy/robert.npy')\n",
    "npy2 = np.load('./npy/robert_2.npy')\n",
    "npy3 = np.load('./npy/kobert.npy')"
   ]
  },
  {
   "cell_type": "code",
   "execution_count": 5,
   "metadata": {},
   "outputs": [],
   "source": [
    "ensembled = (npy1 + npy3) / 2\n",
    "\n",
    "result = np.argmax(ensembled, axis=-1)"
   ]
  },
  {
   "cell_type": "code",
   "execution_count": 6,
   "metadata": {},
   "outputs": [
    {
     "output_type": "execute_result",
     "data": {
      "text/plain": [
       "535"
      ]
     },
     "metadata": {},
     "execution_count": 6
    }
   ],
   "source": [
    "(result == 0).sum()"
   ]
  },
  {
   "cell_type": "code",
   "execution_count": 7,
   "metadata": {},
   "outputs": [],
   "source": [
    "output = pd.DataFrame(result, columns=['pred'])\n",
    "output.to_csv('./prediction/ensembled.csv', index=False)"
   ]
  },
  {
   "cell_type": "code",
   "execution_count": 8,
   "metadata": {},
   "outputs": [],
   "source": [
    "npy1 = npy1 / np.linalg.norm(npy1, axis=1)[:, np.newaxis]\n",
    "npy2 = npy2 / np.linalg.norm(npy2, axis=1)[:, np.newaxis]\n",
    "npy3 = npy3 / np.linalg.norm(npy3, axis=1)[:, np.newaxis]\n",
    "\n",
    "ensembled = (npy1 + npy3) / 2\n",
    "\n",
    "result = np.argmax(ensembled, axis=-1)\n",
    "\n",
    "output = pd.DataFrame(result, columns=['pred'])\n",
    "output.to_csv('./prediction/ensembled_normed.csv', index=False)"
   ]
  },
  {
   "cell_type": "code",
   "execution_count": 9,
   "metadata": {},
   "outputs": [
    {
     "output_type": "stream",
     "name": "stdout",
     "text": [
      "pred    913\ndtype: int64\npred    832\ndtype: int64\n"
     ]
    }
   ],
   "source": [
    "print((robert_1 == output).sum())\n",
    "print((robert_2 == output).sum())"
   ]
  },
  {
   "cell_type": "code",
   "execution_count": 10,
   "metadata": {},
   "outputs": [
    {
     "output_type": "execute_result",
     "data": {
      "text/plain": [
       "pred    913\n",
       "dtype: int64"
      ]
     },
     "metadata": {},
     "execution_count": 10
    }
   ],
   "source": [
    "best_result = pd.read_csv('./prediction/best.csv')\n",
    "(best_result == output).sum()"
   ]
  },
  {
   "cell_type": "code",
   "execution_count": 11,
   "metadata": {},
   "outputs": [
    {
     "output_type": "execute_result",
     "data": {
      "text/plain": [
       "pred    1000\n",
       "dtype: int64"
      ]
     },
     "metadata": {},
     "execution_count": 11
    }
   ],
   "source": [
    "(best_result == robert_1).sum()"
   ]
  },
  {
   "cell_type": "code",
   "execution_count": 12,
   "metadata": {},
   "outputs": [
    {
     "output_type": "execute_result",
     "data": {
      "text/plain": [
       "pred    996\n",
       "dtype: int64"
      ]
     },
     "metadata": {},
     "execution_count": 12
    }
   ],
   "source": [
    "normal = pd.read_csv('./prediction/ensembled.csv')\n",
    "normed = pd.read_csv('./prediction/ensembled_normed.csv')\n",
    "\n",
    "(normal == normed).sum()"
   ]
  },
  {
   "cell_type": "code",
   "execution_count": null,
   "metadata": {},
   "outputs": [],
   "source": []
  }
 ]
}