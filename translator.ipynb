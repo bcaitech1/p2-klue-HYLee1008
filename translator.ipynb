{
 "metadata": {
  "language_info": {
   "codemirror_mode": {
    "name": "ipython",
    "version": 3
   },
   "file_extension": ".py",
   "mimetype": "text/x-python",
   "name": "python",
   "nbconvert_exporter": "python",
   "pygments_lexer": "ipython3",
   "version": "3.7.7"
  },
  "orig_nbformat": 2,
  "kernelspec": {
   "name": "python377jvsc74a57bd098b0a9b7b4eaaa670588a142fd0a9b87eaafe866f1db4228be72b4211d12040f",
   "display_name": "Python 3.7.7 64-bit ('base': conda)"
  }
 },
 "nbformat": 4,
 "nbformat_minor": 2,
 "cells": [
  {
   "cell_type": "code",
   "execution_count": 1,
   "metadata": {},
   "outputs": [],
   "source": [
    "from googletrans import Translator\n",
    "\n",
    "translator = Translator()\n",
    "\n",
    "text = '31일 야옹이 작가 인스타그램 스토리에는 태국 방콕행 왕복항공권 캡처 사진이 올라왔다'\n",
    "result_trans = translator.translate(text, src='ko', dest='en')\n",
    "result_trans_back = translator.translate(result_trans.text, src='en', dest='ko')"
   ]
  },
  {
   "cell_type": "code",
   "execution_count": 2,
   "metadata": {},
   "outputs": [
    {
     "output_type": "stream",
     "name": "stdout",
     "text": [
      "On the 31st, the artist, the writer, the story,\n31 일, 아티스트, 작가, 이야기,\n"
     ]
    }
   ],
   "source": [
    "print(result_trans.text)\n",
    "print(result_trans_back.text)"
   ]
  },
  {
   "cell_type": "code",
   "execution_count": 11,
   "metadata": {},
   "outputs": [],
   "source": [
    "import pandas as pd"
   ]
  },
  {
   "cell_type": "code",
   "execution_count": 13,
   "metadata": {},
   "outputs": [
    {
     "output_type": "execute_result",
     "data": {
      "text/plain": [
       "9399"
      ]
     },
     "metadata": {},
     "execution_count": 13
    }
   ],
   "source": [
    "df = pd.read_csv('/opt/ml/input/data/train/augmented_data.tsv')\n",
    "\n",
    "len(df)"
   ]
  },
  {
   "cell_type": "code",
   "execution_count": 8,
   "metadata": {},
   "outputs": [
    {
     "output_type": "stream",
     "name": "stdout",
     "text": [
      "31일 [A] [B] 인스타그램 스토리에는 태국 방콕행 왕복항공권 캡처 사진이 올라왔다.\n"
     ]
    }
   ],
   "source": [
    "text = '31일 야옹이 작가 인스타그램 스토리에는 태국 방콕행 왕복항공권 캡처 사진이 올라왔다.'\n",
    "\n",
    "entity01 = '야옹이'\n",
    "xt = '31일 야옹이 작가 인스타그램 스토리에는 태국 방콕행 왕복항공권 캡처 사진이 올라왔다.'\n",
    "\n",
    "entity01 = '야옹이'\n",
    "entity02 = '작가'\n",
    "\n",
    "entity_code01 = f\"[A]\"\n",
    "entity_code02 = f\"[B]\"\n",
    "# entity_code01 = 'qwerdf'\n",
    "# entity_code02 = 'qawesd'\n",
    "\n",
    "sentence = text.replace(entity01, entity_code01).replace(entity02, entity_code02)\n",
    "\n",
    "print(sentence)"
   ]
  },
  {
   "cell_type": "code",
   "execution_count": 9,
   "metadata": {},
   "outputs": [
    {
     "output_type": "stream",
     "name": "stdout",
     "text": [
      "On the 31st, Yoo, the writer, the writer, said,\n31 일, 유, 작가, 작가는 말했다,\n31 일, 유, 작가, 작가는 말했다,\n"
     ]
    }
   ],
   "source": [
    "result_trans = translator.translate(text, src='ko', dest='en')\n",
    "result_trans_back = translator.translate(result_trans.text, src='en', dest='ko')\n",
    "\n",
    "aug_sentence = result_trans_back.text.replace(entity_code01, entity01).replace(entity_code02, entity02)\n",
    "\n",
    "print(result_trans.text)\n",
    "print(result_trans_back.text)\n",
    "print(aug_sentence)"
   ]
  },
  {
   "cell_type": "code",
   "execution_count": null,
   "metadata": {},
   "outputs": [],
   "source": []
  }
 ]
}