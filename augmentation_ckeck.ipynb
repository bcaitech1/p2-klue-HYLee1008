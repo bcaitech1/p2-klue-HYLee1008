{
 "metadata": {
  "language_info": {
   "codemirror_mode": {
    "name": "ipython",
    "version": 3
   },
   "file_extension": ".py",
   "mimetype": "text/x-python",
   "name": "python",
   "nbconvert_exporter": "python",
   "pygments_lexer": "ipython3",
   "version": "3.7.7"
  },
  "orig_nbformat": 2,
  "kernelspec": {
   "name": "python377jvsc74a57bd098b0a9b7b4eaaa670588a142fd0a9b87eaafe866f1db4228be72b4211d12040f",
   "display_name": "Python 3.7.7 64-bit ('base': conda)"
  }
 },
 "nbformat": 4,
 "nbformat_minor": 2,
 "cells": [
  {
   "cell_type": "code",
   "execution_count": 1,
   "metadata": {},
   "outputs": [],
   "source": [
    "import pandas as pd\n",
    "\n",
    "df = pd.read_csv(\"/opt/ml/input/data/train/augmented_google.tsv\", delimiter='\\t', header=None)"
   ]
  },
  {
   "cell_type": "code",
   "execution_count": 2,
   "metadata": {},
   "outputs": [
    {
     "output_type": "execute_result",
     "data": {
      "text/plain": [
       "                                                       0        1      2   3\n",
       "14608  13 일, 강진군 산악회 (회장 황용 이순신)은 겨울이며, 이웃은 힘의 근처에 살기...  강진군 산악회     회장  10\n",
       "14609  2002년 FIFA 월드컵 사우디아라비아의 첫 번째 다리에서 독일 80 원이었고 네...  사우디아라비아  2002년   0\n",
       "14610  일본의 두 메이커 토요타 및 닛산은 시장 점유율을 높이기 위해 새로운 자동차를 개발...      토요타     일본   9\n",
       "14611  LG전자은 올해 국내 시장에서 2020 LG 그램 시리즈를 이번 달부터 일련의 북미...     LG전자     북미   0\n",
       "14612  전남 지방 의회 안전 건설 소방위원회 차영수 의원 (강진 1) 따뜻한 휴가 분위기를...      차영수     의원   2"
      ],
      "text/html": "<div>\n<style scoped>\n    .dataframe tbody tr th:only-of-type {\n        vertical-align: middle;\n    }\n\n    .dataframe tbody tr th {\n        vertical-align: top;\n    }\n\n    .dataframe thead th {\n        text-align: right;\n    }\n</style>\n<table border=\"1\" class=\"dataframe\">\n  <thead>\n    <tr style=\"text-align: right;\">\n      <th></th>\n      <th>0</th>\n      <th>1</th>\n      <th>2</th>\n      <th>3</th>\n    </tr>\n  </thead>\n  <tbody>\n    <tr>\n      <th>14608</th>\n      <td>13 일, 강진군 산악회 (회장 황용 이순신)은 겨울이며, 이웃은 힘의 근처에 살기...</td>\n      <td>강진군 산악회</td>\n      <td>회장</td>\n      <td>10</td>\n    </tr>\n    <tr>\n      <th>14609</th>\n      <td>2002년 FIFA 월드컵 사우디아라비아의 첫 번째 다리에서 독일 80 원이었고 네...</td>\n      <td>사우디아라비아</td>\n      <td>2002년</td>\n      <td>0</td>\n    </tr>\n    <tr>\n      <th>14610</th>\n      <td>일본의 두 메이커 토요타 및 닛산은 시장 점유율을 높이기 위해 새로운 자동차를 개발...</td>\n      <td>토요타</td>\n      <td>일본</td>\n      <td>9</td>\n    </tr>\n    <tr>\n      <th>14611</th>\n      <td>LG전자은 올해 국내 시장에서 2020 LG 그램 시리즈를 이번 달부터 일련의 북미...</td>\n      <td>LG전자</td>\n      <td>북미</td>\n      <td>0</td>\n    </tr>\n    <tr>\n      <th>14612</th>\n      <td>전남 지방 의회 안전 건설 소방위원회 차영수 의원 (강진 1) 따뜻한 휴가 분위기를...</td>\n      <td>차영수</td>\n      <td>의원</td>\n      <td>2</td>\n    </tr>\n  </tbody>\n</table>\n</div>"
     },
     "metadata": {},
     "execution_count": 2
    }
   ],
   "source": [
    "df.tail()"
   ]
  },
  {
   "cell_type": "code",
   "execution_count": 18,
   "metadata": {},
   "outputs": [
    {
     "output_type": "execute_result",
     "data": {
      "text/plain": [
       "5613"
      ]
     },
     "metadata": {},
     "execution_count": 18
    }
   ],
   "source": [
    "df_augmented = df[9000:]\n",
    "\n",
    "# df_augmented = df_augmented[df_augmented[3] != 0]\n",
    "\n",
    "df_augmented.head()\n",
    "len(df_augmented)"
   ]
  },
  {
   "cell_type": "code",
   "execution_count": 14,
   "metadata": {},
   "outputs": [
    {
     "output_type": "execute_result",
     "data": {
      "text/plain": [
       "0     2611\n",
       "10     568\n",
       "4      444\n",
       "2      387\n",
       "15     213\n",
       "6      156\n",
       "7      129\n",
       "17     112\n",
       "5      111\n",
       "8       92\n",
       "20      84\n",
       "9       82\n",
       "24      76\n",
       "1       63\n",
       "23      57\n",
       "21      47\n",
       "33      42\n",
       "11      34\n",
       "25      33\n",
       "14      32\n",
       "12      29\n",
       "22      27\n",
       "3       24\n",
       "27      22\n",
       "32      20\n",
       "35      19\n",
       "16      18\n",
       "38      14\n",
       "30      10\n",
       "31       9\n",
       "36       7\n",
       "13       6\n",
       "28       6\n",
       "34       6\n",
       "39       5\n",
       "41       5\n",
       "18       3\n",
       "26       3\n",
       "29       2\n",
       "19       2\n",
       "37       2\n",
       "40       1\n",
       "Name: 3, dtype: int64"
      ]
     },
     "metadata": {},
     "execution_count": 14
    }
   ],
   "source": [
    "df_augmented[3].value_counts()"
   ]
  },
  {
   "cell_type": "code",
   "execution_count": null,
   "metadata": {},
   "outputs": [],
   "source": []
  }
 ]
}